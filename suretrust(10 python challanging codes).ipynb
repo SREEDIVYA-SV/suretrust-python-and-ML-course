{
 "cells": [
  {
   "cell_type": "markdown",
   "id": "649e0b23",
   "metadata": {},
   "source": [
    "# 1.Tic-Tac-Toe logic"
   ]
  },
  {
   "cell_type": "code",
   "execution_count": 2,
   "id": "be8bd503",
   "metadata": {},
   "outputs": [
    {
     "name": "stdout",
     "output_type": "stream",
     "text": [
      " | | \n",
      "-+-+-\n",
      " | | \n",
      "-+-+-\n",
      " | | \n",
      "Turn for X. Move on which space?\n",
      "top-M\n",
      " |X| \n",
      "-+-+-\n",
      " | | \n",
      "-+-+-\n",
      " | | \n",
      "Turn for O. Move on which space?\n",
      "low-M\n",
      " |X| \n",
      "-+-+-\n",
      " | | \n",
      "-+-+-\n",
      " |O| \n",
      "Turn for X. Move on which space?\n",
      "top-R\n",
      " |X|X\n",
      "-+-+-\n",
      " | | \n",
      "-+-+-\n",
      " |O| \n",
      "Turn for O. Move on which space?\n",
      "low-R\n",
      " |X|X\n",
      "-+-+-\n",
      " | | \n",
      "-+-+-\n",
      " |O|O\n",
      "Turn for X. Move on which space?\n",
      "top-L\n",
      "X Is the Winner\n",
      "Congratulations!!\n",
      "X|X|X\n",
      "-+-+-\n",
      " | | \n",
      "-+-+-\n",
      " |O|O\n",
      "X|X|X\n",
      "-+-+-\n",
      " | | \n",
      "-+-+-\n",
      " |O|O\n"
     ]
    }
   ],
   "source": [
    "theBoard = {'top-L': ' ', 'top-M': ' ', 'top-R': ' ', 'mid-L': ' ', 'mid-M': ' ', 'mid-R': ' ', 'low-L': ' ', 'low-M': ' ', 'low-R': ' '}\n",
    "def printBoard(board):\n",
    "    print(board['top-L'] + '|' + board['top-M'] + '|' + board['top-R'])\n",
    "    print('-+-+-')\n",
    "    print(board['mid-L'] + '|' + board['mid-M'] + '|' + board['mid-R'])\n",
    "    print('-+-+-')\n",
    "    print(board['low-L'] + '|' + board['low-M'] + '|' + board['low-R'])\n",
    "def isWinner(board,turn):\n",
    "    if not board['top-L']==' ' and board['top-L']==board['top-M'] and not board['top-M']==' ' and board['top-M']==board['top-R']:\n",
    "        print(board['top-L']+ \" Is the Winner\")\n",
    "        return True\n",
    "    elif not board['mid-L']==' ' and board['mid-L']==board['mid-M'] and not board['mid-M']==' ' and board['mid-M']==board['mid-R']:\n",
    "        print(board['mid-L']+ \" Is the Winner\")\n",
    "        return True\n",
    "        \n",
    "    elif not board['low-L'] == ' ' and board['low-L']==board['low-M'] and not board['low-M'] == ' ' and board['low-M']==board['low-R']:\n",
    "        print(board['low-L']+ \" Is the Winner\")\n",
    "        return True\n",
    "    elif not board['top-L']==' ' and board['top-L']==board['mid-L'] and not board['mid-L']==' ' and board['mid-L']==board['low-L']:\n",
    "        print(board['top-L']+ \" Is the Winner\")\n",
    "        return True\n",
    "    elif not board['top-M']==' ' and board['top-M']==board['mid-M'] and not board['mid-M']==' ' and board['mid-M']==board['low-M']:\n",
    "        print(board['top-M']+ \" Is the Winner\")\n",
    "        return True\n",
    "    \n",
    "    elif not board['top-R']==' ' and board['top-R']==board['mid-R'] and not board['mid-R']==' ' and board['mid-R']==board['low-R']:\n",
    "        print(board['top-R']+ \" Is the Winner\")\n",
    "        return True\n",
    "    elif not board['top-L']==' ' and board['top-L']==board['mid-M'] and not board['mid-M']==' ' and board['mid-M']==board['low-R']:\n",
    "        print(board['top-L']+ \" Is the Winner\")\n",
    "        return True\n",
    "    \n",
    "    elif not board['top-R']==' ' and board['top-R']==board['mid-M'] and not board['mid-M']==' ' and board['mid-M']==board['low-L']:\n",
    "        print(board['top-R']+ \" Is the Winner\")\n",
    "        return True\n",
    "turn = 'X'\n",
    "for i in range(9):\n",
    "    printBoard(theBoard)\n",
    "    print('Turn for ' + turn + '. Move on which space?')\n",
    "    move = input()\n",
    "    theBoard[move] = turn\n",
    "    isWon = isWinner(theBoard,turn)\n",
    "    if isWon:\n",
    "        print(\"Congratulations!!\")\n",
    "        printBoard(theBoard)\n",
    "        #If someone is winner then reset the board for the next game\n",
    "        break\n",
    "    if turn == 'X':\n",
    "        turn = 'O'\n",
    "    else:\n",
    "        turn = 'X'\n",
    "printBoard(theBoard)"
   ]
  },
  {
   "cell_type": "code",
   "execution_count": 6,
   "id": "dca4f39e",
   "metadata": {},
   "outputs": [
    {
     "name": "stdout",
     "output_type": "stream",
     "text": [
      "Collecting pyperclip\n",
      "  Downloading pyperclip-1.8.2.tar.gz (20 kB)\n",
      "Building wheels for collected packages: pyperclip\n",
      "  Building wheel for pyperclip (setup.py): started\n",
      "  Building wheel for pyperclip (setup.py): finished with status 'done'\n",
      "  Created wheel for pyperclip: filename=pyperclip-1.8.2-py3-none-any.whl size=11107 sha256=6c0530029a4d91407b7be3ecc1fc4108cdbbb5732f6f87827a34460105f357e0\n",
      "  Stored in directory: c:\\users\\sreed\\appdata\\local\\pip\\cache\\wheels\\7f\\1a\\65\\84ff8c386bec21fca6d220ea1f5498a0367883a78dd5ba6122\n",
      "Successfully built pyperclip\n",
      "Installing collected packages: pyperclip\n",
      "Successfully installed pyperclip-1.8.2\n",
      "Note: you may need to restart the kernel to use updated packages.\n"
     ]
    }
   ],
   "source": [
    "pip install pyperclip"
   ]
  },
  {
   "cell_type": "markdown",
   "id": "c9e3ed9f",
   "metadata": {},
   "source": [
    "# 2.bulletpointer adder"
   ]
  },
  {
   "cell_type": "code",
   "execution_count": 9,
   "id": "03ba7c4f",
   "metadata": {},
   "outputs": [],
   "source": [
    "#! python3\n",
    "# bulletPointAdder.py - Adds Wikipedia bullet points to the start\n",
    "# of each line of text on the clipboard.\n",
    "import pyperclip\n",
    "text = pyperclip.paste()\n",
    "# Separate lines and add stars.\n",
    "lines = text.split('\\n')\n",
    "for i in range(len(lines)): # loop through all indexes for \"lines\" list\n",
    "    lines[i] = '* ' + lines[i] # add star to each string in \"lines\" list\n",
    "text = '\\n'.join(lines)\n",
    "pyperclip.copy(text)"
   ]
  },
  {
   "cell_type": "markdown",
   "id": "35e524c4",
   "metadata": {},
   "source": [
    "given text-\n",
    "India, officially the Republic of India, is a country in South Asia. It is the seventh-largest country by area, the second-most populous country, and the most populous democracy in the world. Wikipedia\n",
    "President: Ram Nath Kovind Trending\n",
    "Capital: New Delhi\n",
    "Continent: Asia\n",
    "Population: 138 crores (2020) World Bank\n",
    "Plan a trip"
   ]
  },
  {
   "cell_type": "markdown",
   "id": "417e4248",
   "metadata": {},
   "source": [
    "output on execution of program-\n",
    "* India, officially the Republic of India, is a country in South Asia. It is the seventh-largest country by area, the second-most populous country, and the most populous democracy in the world. Wikipedia\n",
    "* President: Ram Nath Kovind Trending\n",
    "* Capital: New Delhi\n",
    "* Continent: Asia\n",
    "* Population: 138 crores (2020) World Bank\n",
    "* Plan a trip"
   ]
  },
  {
   "cell_type": "markdown",
   "id": "7aa21fa6",
   "metadata": {},
   "source": [
    "# 3.phone and email"
   ]
  },
  {
   "cell_type": "code",
   "execution_count": 17,
   "id": "59b82461",
   "metadata": {},
   "outputs": [
    {
     "name": "stdout",
     "output_type": "stream",
     "text": [
      "Copied to clipboard:\n",
      "800-420-7240\n",
      "415-863-9900\n",
      "415-863-9950\n"
     ]
    }
   ],
   "source": [
    "#! python3\n",
    "# phoneAndEmail.py - Finds phone numbers and email addresses on the clipboard.\n",
    "import pyperclip, re\n",
    "phoneRegex = re.compile(r'''((\\d{3}|\\(\\d{3}\\))?(\\s|-|\\.)?(\\d{3})(\\s|-|\\.)(\\d{4})(\\s*(ext|x|ext.)\\s*(\\d{2,5}))?)''', re.VERBOSE)\n",
    "emailRegex = re.compile(r'''(u [a-zA-Z0-9._%+-]+@[a-zA-Z0-9.-]+(\\.[a-zA-Z]{2,4}))''', re.VERBOSE)\n",
    "text = str(pyperclip.paste())\n",
    "matches = []\n",
    "for groups in phoneRegex.findall(text):\n",
    "    phoneNum = '-'.join([groups[1], groups[3], groups[5]])\n",
    "    if groups[8] != '':\n",
    "        phoneNum += ' x' + groups[8]\n",
    "    matches.append(phoneNum)\n",
    "for groups in emailRegex.findall(text):\n",
    "    matches.append(groups[0])\n",
    "if len(matches) > 0:\n",
    "    pyperclip.copy('\\n'.join(matches))\n",
    "    print('Copied to clipboard:')\n",
    "    print('\\n'.join(matches))\n",
    "else:\n",
    "    print('No phone numbers or email addresses found.')\n",
    "# TODO: Copy results to the clipboard.\n"
   ]
  },
  {
   "cell_type": "markdown",
   "id": "d619a861",
   "metadata": {},
   "source": [
    "# 4.Program to solve Quadratic Equation."
   ]
  },
  {
   "cell_type": "code",
   "execution_count": 3,
   "id": "e1f12f85",
   "metadata": {},
   "outputs": [
    {
     "name": "stdout",
     "output_type": "stream",
     "text": [
      "The solution are (-1+1.4142135623730951j) and (-1-1.4142135623730951j)\n"
     ]
    }
   ],
   "source": [
    "from cmath import sqrt\n",
    "def qua(a,b,c):\n",
    "    d=(b**2)-(4*a*c)\n",
    "    ans1=(-b+sqrt(d))/(2*a)\n",
    "    ans2=(-b-sqrt(d))/(2*a)\n",
    "    print('The solution are {0} and {1}'.format(ans1,ans2))\n",
    "    \n",
    "qua(1,2,3)"
   ]
  },
  {
   "cell_type": "markdown",
   "id": "daabafc8",
   "metadata": {},
   "source": [
    "# 5.Program to swap Two Variables."
   ]
  },
  {
   "cell_type": "code",
   "execution_count": 4,
   "id": "3d300ce7",
   "metadata": {},
   "outputs": [
    {
     "name": "stdout",
     "output_type": "stream",
     "text": [
      "a:\t45\n",
      "b:\t54\n",
      "a: 54\n",
      "b: 45\n"
     ]
    }
   ],
   "source": [
    "def s():\n",
    "    a=input(\"a:\\t\")\n",
    "    b=input(\"b:\\t\")\n",
    "    temp=a\n",
    "    a=b\n",
    "    b=temp\n",
    "    print(\"a:\",a)\n",
    "    print(\"b:\",b)\n",
    "s()\n",
    "    "
   ]
  },
  {
   "cell_type": "markdown",
   "id": "30681c7f",
   "metadata": {},
   "source": [
    "# 6.Program to check leap year"
   ]
  },
  {
   "cell_type": "code",
   "execution_count": 5,
   "id": "95b484dc",
   "metadata": {},
   "outputs": [
    {
     "name": "stdout",
     "output_type": "stream",
     "text": [
      "enter the year:\t2021\n",
      "It is not a leap year\n"
     ]
    }
   ],
   "source": [
    "def leap():\n",
    "    a=int(input(\"enter the year:\\t\"))\n",
    "    if a%4==0:\n",
    "        print(\"It is a leap year\")\n",
    "    else:\n",
    "        print(\"It is not a leap year\")\n",
    "leap()"
   ]
  },
  {
   "cell_type": "markdown",
   "id": "8501308e",
   "metadata": {},
   "source": [
    "# 7.Program to check if a number is positive, negative or 0."
   ]
  },
  {
   "cell_type": "code",
   "execution_count": 6,
   "id": "27150db5",
   "metadata": {},
   "outputs": [
    {
     "name": "stdout",
     "output_type": "stream",
     "text": [
      "enter\t-10\n",
      "negitive\n"
     ]
    }
   ],
   "source": [
    "def check():\n",
    "    a=int(input(\"enter\\t\"))\n",
    "    if a>0:\n",
    "        print(\"positive\")\n",
    "    elif a<0:\n",
    "        print(\"negitive\")\n",
    "    else:\n",
    "        print(\"0\")\n",
    "check()"
   ]
  },
  {
   "cell_type": "markdown",
   "id": "1c9bde66",
   "metadata": {},
   "source": [
    "# 8.Program to check prime number"
   ]
  },
  {
   "cell_type": "code",
   "execution_count": 7,
   "id": "67de6615",
   "metadata": {},
   "outputs": [
    {
     "name": "stdout",
     "output_type": "stream",
     "text": [
      "enter value4\n",
      "not a prime\n"
     ]
    }
   ],
   "source": [
    "def prime():\n",
    "    a=int(input(\"enter value\"))\n",
    "    for i in range(2,a-1):\n",
    "        if(i%2==0):\n",
    "            print(\"not a prime\")\n",
    "        else:\n",
    "            print(\"prime\")\n",
    "prime()"
   ]
  },
  {
   "cell_type": "markdown",
   "id": "49197652",
   "metadata": {},
   "source": [
    "# 9.Program to find the largest among three numbers"
   ]
  },
  {
   "cell_type": "code",
   "execution_count": 8,
   "id": "74b8980f",
   "metadata": {},
   "outputs": [
    {
     "name": "stdout",
     "output_type": "stream",
     "text": [
      "90\n"
     ]
    }
   ],
   "source": [
    "def lar(a,b,c):\n",
    "    lst=[a,b,c]\n",
    "    x=max(lst)\n",
    "    print(x)\n",
    "lar(20,79,90)\n",
    "    "
   ]
  },
  {
   "cell_type": "markdown",
   "id": "f0e2fd01",
   "metadata": {},
   "source": [
    "# 10.Program to convert kilometers to Miles"
   ]
  },
  {
   "cell_type": "code",
   "execution_count": 9,
   "id": "f2641d6f",
   "metadata": {},
   "outputs": [
    {
     "name": "stdout",
     "output_type": "stream",
     "text": [
      "enter km:1\n",
      "In miles: 0.621371\n"
     ]
    }
   ],
   "source": [
    "def tomile():\n",
    "    a=int(input(\"enter km:\"))\n",
    "    b=0.621371*a\n",
    "    print(\"In miles:\",b)\n",
    "tomile()"
   ]
  },
  {
   "cell_type": "code",
   "execution_count": null,
   "id": "791bb96b",
   "metadata": {},
   "outputs": [],
   "source": []
  }
 ],
 "metadata": {
  "kernelspec": {
   "display_name": "Python 3",
   "language": "python",
   "name": "python3"
  },
  "language_info": {
   "codemirror_mode": {
    "name": "ipython",
    "version": 3
   },
   "file_extension": ".py",
   "mimetype": "text/x-python",
   "name": "python",
   "nbconvert_exporter": "python",
   "pygments_lexer": "ipython3",
   "version": "3.8.8"
  }
 },
 "nbformat": 4,
 "nbformat_minor": 5
}
